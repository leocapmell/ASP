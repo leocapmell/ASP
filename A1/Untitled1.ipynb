{
 "cells": [
  {
   "cell_type": "code",
   "execution_count": 30,
   "metadata": {},
   "outputs": [],
   "source": [
    "import sys\n",
    "import os\n",
    "sys.path.append(r'C:\\Users\\Public\\Documents\\DSP\\sms-tools-master\\software\\models')\n",
    "from utilFunctions import wavread\n",
    "import pickle\n",
    "\"\"\"\n",
    "A1-Part-1: Reading an audio file\n",
    "\n",
    "Write a function that reads an audio file and returns 10 consecutive samples of the file starting from \n",
    "the 50001th sample. This means that the output should exactly contain the 50001th sample to the 50010th \n",
    "sample (10 samples). \n",
    "\n",
    "The input to the function is the file name (including the path) and the output should be a numpy array \n",
    "containing 10 samples.\n",
    "\n",
    "If you use the wavread function from the utilFunctions module the input samples will be automatically \n",
    "converted to floating point numbers with a range from -1 to 1, which is what we want. \n",
    "\n",
    "Remember that in python, the index of the first sample of an array is 0 and not 1.\n",
    "\n",
    "If you run your code using piano.wav as the input, the function should return the following 10 samples:  \n",
    "array([-0.06213569, -0.04541154, -0.02734458, -0.0093997 ,  0.00769066,\t0.02319407,  0.03503525, \n",
    "0.04309214, 0.04626606,  0.0441908], dtype=float32)\n",
    "\"\"\"\n",
    "fileName=r\"C:\\Users\\Public\\Documents\\DSP\\sms-tools-master\\sounds\\piano.wav\"\n",
    "def readAudio(fileName):\n",
    "    \"\"\"\n",
    "    Input:\n",
    "        inputFile: the path to the wav file      \n",
    "    Output:\n",
    "        The function should return a numpy array that contains 10 samples of the audio.\n",
    "    \"\"\"\n",
    "    ## Your code here\n",
    "    x,y = wavread(inputFile)\n",
    "    \n",
    "    return y[ 50000:50010]\n",
    "    \n"
   ]
  },
  {
   "cell_type": "code",
   "execution_count": 15,
   "metadata": {},
   "outputs": [],
   "source": [
    "a=r\"C:\\Users\\Public\\Documents\\DSP\\sms-tools-master\\sounds\\carnatic.wav\""
   ]
  },
  {
   "cell_type": "code",
   "execution_count": 28,
   "metadata": {},
   "outputs": [],
   "source": [
    " inputName=open(r'C:\\Users\\Public\\Documents\\DSP\\sms-tools-master\\assignments\\A1\\A1\\testInputA1.pkl', 'rb') \n",
    "   "
   ]
  },
  {
   "cell_type": "code",
   "execution_count": 29,
   "metadata": {},
   "outputs": [
    {
     "data": {
      "text/plain": [
       "<_io.BufferedReader name='C:\\\\Users\\\\Public\\\\Documents\\\\DSP\\\\sms-tools-master\\\\assignments\\\\A1\\\\A1\\\\testInputA1.pkl'>"
      ]
     },
     "execution_count": 29,
     "metadata": {},
     "output_type": "execute_result"
    }
   ],
   "source": [
    "inputName"
   ]
  },
  {
   "cell_type": "code",
   "execution_count": null,
   "metadata": {},
   "outputs": [],
   "source": []
  }
 ],
 "metadata": {
  "kernelspec": {
   "display_name": "Python 3",
   "language": "python",
   "name": "python3"
  },
  "language_info": {
   "codemirror_mode": {
    "name": "ipython",
    "version": 3
   },
   "file_extension": ".py",
   "mimetype": "text/x-python",
   "name": "python",
   "nbconvert_exporter": "python",
   "pygments_lexer": "ipython3",
   "version": "3.7.6"
  }
 },
 "nbformat": 4,
 "nbformat_minor": 4
}
