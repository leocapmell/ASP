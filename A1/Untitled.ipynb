{
 "cells": [
  {
   "cell_type": "code",
   "execution_count": 1,
   "metadata": {},
   "outputs": [],
   "source": [
    "import sys\n",
    "import os\n",
    "sys.path.append(r'C:\\Users\\Public\\Documents\\DSP\\sms-tools-master\\software\\models')\n",
    "from utilFunctions import wavread\n",
    "\n",
    "\"\"\"\n",
    "A1-Part-1: Reading an audio file\n",
    "\n",
    "Write a function that reads an audio file and returns 10 consecutive samples of the file starting from \n",
    "the 50001th sample. This means that the output should exactly contain the 50001th sample to the 50010th \n",
    "sample (10 samples). \n",
    "\n",
    "The input to the function is the file name (including the path) and the output should be a numpy array \n",
    "containing 10 samples.\n",
    "\n",
    "If you use the wavread function from the utilFunctions module the input samples will be automatically \n",
    "converted to floating point numbers with a range from -1 to 1, which is what we want. \n",
    "\n",
    "Remember that in python, the index of the first sample of an array is 0 and not 1.\n",
    "\n",
    "If you run your code using piano.wav as the input, the function should return the following 10 samples:  \n",
    "array([-0.06213569, -0.04541154, -0.02734458, -0.0093997 ,  0.00769066,\t0.02319407,  0.03503525, \n",
    "0.04309214, 0.04626606,  0.0441908], dtype=float32)\n",
    "\"\"\"\n",
    "\n",
    "def readAudio(inputFile):\n",
    "    \"\"\"\n",
    "    Input:\n",
    "        inputFile: the path to the wav file      \n",
    "    Output:\n",
    "        The function should return a numpy array that contains 10 samples of the audio.\n",
    "    \"\"\"\n",
    "    ## Your code here\n",
    "    x,y=wavread(inputFile)\n",
    "    return y[ 50000:50010]\n",
    "    \n"
   ]
  },
  {
   "cell_type": "code",
   "execution_count": 2,
   "metadata": {},
   "outputs": [
    {
     "data": {
      "text/plain": [
       "array([0.05468917, 0.06054872, 0.06634724, 0.07190161, 0.07647938,\n",
       "       0.07739494, 0.07507554, 0.07055879, 0.06668294, 0.06436354],\n",
       "      dtype=float32)"
      ]
     },
     "execution_count": 2,
     "metadata": {},
     "output_type": "execute_result"
    }
   ],
   "source": [
    "readAudio(r\"C:\\Users\\Public\\Documents\\DSP\\sms-tools-master\\sounds\\carnatic.wav\")"
   ]
  },
  {
   "cell_type": "code",
   "execution_count": 4,
   "metadata": {},
   "outputs": [],
   "source": [
    "x,y=wavread(r\"C:\\Users\\Public\\Documents\\DSP\\sms-tools-master\\sounds\\carnatic.wav\")"
   ]
  },
  {
   "cell_type": "code",
   "execution_count": 8,
   "metadata": {},
   "outputs": [
    {
     "data": {
      "text/plain": [
       "0.06079287"
      ]
     },
     "execution_count": 8,
     "metadata": {},
     "output_type": "execute_result"
    }
   ],
   "source": [
    "y[50010]"
   ]
  },
  {
   "cell_type": "code",
   "execution_count": null,
   "metadata": {},
   "outputs": [],
   "source": []
  }
 ],
 "metadata": {
  "kernelspec": {
   "display_name": "Python 3",
   "language": "python",
   "name": "python3"
  },
  "language_info": {
   "codemirror_mode": {
    "name": "ipython",
    "version": 3
   },
   "file_extension": ".py",
   "mimetype": "text/x-python",
   "name": "python",
   "nbconvert_exporter": "python",
   "pygments_lexer": "ipython3",
   "version": "3.7.6"
  }
 },
 "nbformat": 4,
 "nbformat_minor": 4
}
